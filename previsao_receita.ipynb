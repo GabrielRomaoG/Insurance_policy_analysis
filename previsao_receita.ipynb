{
 "cells": [
  {
   "cell_type": "markdown",
   "metadata": {},
   "source": [
    "# Previsão de Receita (pagamento das apólices)"
   ]
  },
  {
   "cell_type": "markdown",
   "metadata": {},
   "source": [
    "## Tratamento de dados e EDA"
   ]
  },
  {
   "cell_type": "code",
   "execution_count": 2,
   "metadata": {},
   "outputs": [],
   "source": [
    "\n",
    "#Importando as bibliotecas necessárias\n",
    "\n",
    "import pandas as pd\n",
    "import numpy as np\n",
    "import matplotlib.pyplot as plt\n",
    "import seaborn as sns"
   ]
  },
  {
   "cell_type": "code",
   "execution_count": 3,
   "metadata": {},
   "outputs": [],
   "source": [
    "# Coletando os dados \n",
    "# df_venda = pd.read_excel('case_analista_de_inteligncia_e_performance_-_2023.xlsx', sheet_name='venda')\n",
    "df_receita = pd.read_excel('case_analista_de_inteligncia_e_performance_-_2023.xlsx', sheet_name='receita')"
   ]
  },
  {
   "cell_type": "code",
   "execution_count": 4,
   "metadata": {},
   "outputs": [
    {
     "data": {
      "text/html": [
       "<div>\n",
       "<style scoped>\n",
       "    .dataframe tbody tr th:only-of-type {\n",
       "        vertical-align: middle;\n",
       "    }\n",
       "\n",
       "    .dataframe tbody tr th {\n",
       "        vertical-align: top;\n",
       "    }\n",
       "\n",
       "    .dataframe thead th {\n",
       "        text-align: right;\n",
       "    }\n",
       "</style>\n",
       "<table border=\"1\" class=\"dataframe\">\n",
       "  <thead>\n",
       "    <tr style=\"text-align: right;\">\n",
       "      <th></th>\n",
       "      <th>ano</th>\n",
       "      <th>mes</th>\n",
       "      <th>seguradora</th>\n",
       "      <th>vendedor</th>\n",
       "      <th>tot_apolices</th>\n",
       "      <th>receita</th>\n",
       "    </tr>\n",
       "  </thead>\n",
       "  <tbody>\n",
       "    <tr>\n",
       "      <th>0</th>\n",
       "      <td>2019</td>\n",
       "      <td>1</td>\n",
       "      <td>72</td>\n",
       "      <td>58</td>\n",
       "      <td>1</td>\n",
       "      <td>65.300</td>\n",
       "    </tr>\n",
       "    <tr>\n",
       "      <th>1</th>\n",
       "      <td>2019</td>\n",
       "      <td>1</td>\n",
       "      <td>72</td>\n",
       "      <td>57</td>\n",
       "      <td>4</td>\n",
       "      <td>1360.235</td>\n",
       "    </tr>\n",
       "    <tr>\n",
       "      <th>2</th>\n",
       "      <td>2019</td>\n",
       "      <td>1</td>\n",
       "      <td>72</td>\n",
       "      <td>56</td>\n",
       "      <td>3</td>\n",
       "      <td>276.490</td>\n",
       "    </tr>\n",
       "    <tr>\n",
       "      <th>3</th>\n",
       "      <td>2019</td>\n",
       "      <td>1</td>\n",
       "      <td>72</td>\n",
       "      <td>47</td>\n",
       "      <td>2</td>\n",
       "      <td>-1707.095</td>\n",
       "    </tr>\n",
       "    <tr>\n",
       "      <th>4</th>\n",
       "      <td>2019</td>\n",
       "      <td>1</td>\n",
       "      <td>72</td>\n",
       "      <td>38</td>\n",
       "      <td>3</td>\n",
       "      <td>1080.745</td>\n",
       "    </tr>\n",
       "    <tr>\n",
       "      <th>...</th>\n",
       "      <td>...</td>\n",
       "      <td>...</td>\n",
       "      <td>...</td>\n",
       "      <td>...</td>\n",
       "      <td>...</td>\n",
       "      <td>...</td>\n",
       "    </tr>\n",
       "    <tr>\n",
       "      <th>1075</th>\n",
       "      <td>2020</td>\n",
       "      <td>6</td>\n",
       "      <td>72</td>\n",
       "      <td>14</td>\n",
       "      <td>1</td>\n",
       "      <td>98.935</td>\n",
       "    </tr>\n",
       "    <tr>\n",
       "      <th>1076</th>\n",
       "      <td>2020</td>\n",
       "      <td>6</td>\n",
       "      <td>72</td>\n",
       "      <td>13</td>\n",
       "      <td>3</td>\n",
       "      <td>3244.695</td>\n",
       "    </tr>\n",
       "    <tr>\n",
       "      <th>1077</th>\n",
       "      <td>2020</td>\n",
       "      <td>6</td>\n",
       "      <td>72</td>\n",
       "      <td>12</td>\n",
       "      <td>3</td>\n",
       "      <td>267.235</td>\n",
       "    </tr>\n",
       "    <tr>\n",
       "      <th>1078</th>\n",
       "      <td>2020</td>\n",
       "      <td>6</td>\n",
       "      <td>72</td>\n",
       "      <td>9</td>\n",
       "      <td>12</td>\n",
       "      <td>2157.955</td>\n",
       "    </tr>\n",
       "    <tr>\n",
       "      <th>1079</th>\n",
       "      <td>2020</td>\n",
       "      <td>6</td>\n",
       "      <td>72</td>\n",
       "      <td>2</td>\n",
       "      <td>9</td>\n",
       "      <td>3359.695</td>\n",
       "    </tr>\n",
       "  </tbody>\n",
       "</table>\n",
       "<p>1080 rows × 6 columns</p>\n",
       "</div>"
      ],
      "text/plain": [
       "       ano  mes  seguradora  vendedor  tot_apolices   receita\n",
       "0     2019    1          72        58             1    65.300\n",
       "1     2019    1          72        57             4  1360.235\n",
       "2     2019    1          72        56             3   276.490\n",
       "3     2019    1          72        47             2 -1707.095\n",
       "4     2019    1          72        38             3  1080.745\n",
       "...    ...  ...         ...       ...           ...       ...\n",
       "1075  2020    6          72        14             1    98.935\n",
       "1076  2020    6          72        13             3  3244.695\n",
       "1077  2020    6          72        12             3   267.235\n",
       "1078  2020    6          72         9            12  2157.955\n",
       "1079  2020    6          72         2             9  3359.695\n",
       "\n",
       "[1080 rows x 6 columns]"
      ]
     },
     "execution_count": 4,
     "metadata": {},
     "output_type": "execute_result"
    }
   ],
   "source": [
    "df_receita\n"
   ]
  },
  {
   "cell_type": "code",
   "execution_count": 5,
   "metadata": {},
   "outputs": [
    {
     "name": "stdout",
     "output_type": "stream",
     "text": [
      "<class 'pandas.core.frame.DataFrame'>\n",
      "RangeIndex: 1080 entries, 0 to 1079\n",
      "Data columns (total 6 columns):\n",
      " #   Column        Non-Null Count  Dtype  \n",
      "---  ------        --------------  -----  \n",
      " 0   ano           1080 non-null   int64  \n",
      " 1   mes           1080 non-null   int64  \n",
      " 2   seguradora    1080 non-null   int64  \n",
      " 3   vendedor      1080 non-null   int64  \n",
      " 4   tot_apolices  1080 non-null   int64  \n",
      " 5   receita       1080 non-null   float64\n",
      "dtypes: float64(1), int64(5)\n",
      "memory usage: 50.8 KB\n"
     ]
    }
   ],
   "source": [
    "df_receita.info()"
   ]
  },
  {
   "cell_type": "markdown",
   "metadata": {},
   "source": [
    "### Verificando a distribuição da coluna receita"
   ]
  },
  {
   "cell_type": "code",
   "execution_count": 6,
   "metadata": {},
   "outputs": [
    {
     "data": {
      "image/png": "[encoded data removed]",
      "text/plain": [
       "<Figure size 640x480 with 1 Axes>"
      ]
     },
     "metadata": {},
     "output_type": "display_data"
    }
   ],
   "source": [
    "sns.histplot(df_receita.receita, bins=70, kde=False, color='skyblue')\n",
    "#Limite o y para 50 pois não estava dando para ver as frequências dos outros valores\n",
    "plt.ylim(0, 50)\n",
    "plt.show()"
   ]
  },
  {
   "cell_type": "markdown",
   "metadata": {},
   "source": [
    "Como pode ser visto há um possível outlier acima de 120.000 de receita"
   ]
  },
  {
   "cell_type": "code",
   "execution_count": 17,
   "metadata": {},
   "outputs": [
    {
     "data": {
      "text/html": [
       "<div>\n",
       "<style scoped>\n",
       "    .dataframe tbody tr th:only-of-type {\n",
       "        vertical-align: middle;\n",
       "    }\n",
       "\n",
       "    .dataframe tbody tr th {\n",
       "        vertical-align: top;\n",
       "    }\n",
       "\n",
       "    .dataframe thead th {\n",
       "        text-align: right;\n",
       "    }\n",
       "</style>\n",
       "<table border=\"1\" class=\"dataframe\">\n",
       "  <thead>\n",
       "    <tr style=\"text-align: right;\">\n",
       "      <th></th>\n",
       "      <th>ano</th>\n",
       "      <th>mes</th>\n",
       "      <th>seguradora</th>\n",
       "      <th>vendedor</th>\n",
       "      <th>tot_apolices</th>\n",
       "      <th>receita</th>\n",
       "    </tr>\n",
       "  </thead>\n",
       "  <tbody>\n",
       "    <tr>\n",
       "      <th>0</th>\n",
       "      <td>2019</td>\n",
       "      <td>1</td>\n",
       "      <td>72</td>\n",
       "      <td>58</td>\n",
       "      <td>1</td>\n",
       "      <td>65.300</td>\n",
       "    </tr>\n",
       "    <tr>\n",
       "      <th>1</th>\n",
       "      <td>2019</td>\n",
       "      <td>1</td>\n",
       "      <td>72</td>\n",
       "      <td>57</td>\n",
       "      <td>4</td>\n",
       "      <td>1360.235</td>\n",
       "    </tr>\n",
       "    <tr>\n",
       "      <th>2</th>\n",
       "      <td>2019</td>\n",
       "      <td>1</td>\n",
       "      <td>72</td>\n",
       "      <td>56</td>\n",
       "      <td>3</td>\n",
       "      <td>276.490</td>\n",
       "    </tr>\n",
       "    <tr>\n",
       "      <th>4</th>\n",
       "      <td>2019</td>\n",
       "      <td>1</td>\n",
       "      <td>72</td>\n",
       "      <td>38</td>\n",
       "      <td>3</td>\n",
       "      <td>1080.745</td>\n",
       "    </tr>\n",
       "    <tr>\n",
       "      <th>5</th>\n",
       "      <td>2019</td>\n",
       "      <td>1</td>\n",
       "      <td>72</td>\n",
       "      <td>35</td>\n",
       "      <td>2</td>\n",
       "      <td>446.095</td>\n",
       "    </tr>\n",
       "    <tr>\n",
       "      <th>...</th>\n",
       "      <td>...</td>\n",
       "      <td>...</td>\n",
       "      <td>...</td>\n",
       "      <td>...</td>\n",
       "      <td>...</td>\n",
       "      <td>...</td>\n",
       "    </tr>\n",
       "    <tr>\n",
       "      <th>1075</th>\n",
       "      <td>2020</td>\n",
       "      <td>6</td>\n",
       "      <td>72</td>\n",
       "      <td>14</td>\n",
       "      <td>1</td>\n",
       "      <td>98.935</td>\n",
       "    </tr>\n",
       "    <tr>\n",
       "      <th>1076</th>\n",
       "      <td>2020</td>\n",
       "      <td>6</td>\n",
       "      <td>72</td>\n",
       "      <td>13</td>\n",
       "      <td>3</td>\n",
       "      <td>3244.695</td>\n",
       "    </tr>\n",
       "    <tr>\n",
       "      <th>1077</th>\n",
       "      <td>2020</td>\n",
       "      <td>6</td>\n",
       "      <td>72</td>\n",
       "      <td>12</td>\n",
       "      <td>3</td>\n",
       "      <td>267.235</td>\n",
       "    </tr>\n",
       "    <tr>\n",
       "      <th>1078</th>\n",
       "      <td>2020</td>\n",
       "      <td>6</td>\n",
       "      <td>72</td>\n",
       "      <td>9</td>\n",
       "      <td>12</td>\n",
       "      <td>2157.955</td>\n",
       "    </tr>\n",
       "    <tr>\n",
       "      <th>1079</th>\n",
       "      <td>2020</td>\n",
       "      <td>6</td>\n",
       "      <td>72</td>\n",
       "      <td>2</td>\n",
       "      <td>9</td>\n",
       "      <td>3359.695</td>\n",
       "    </tr>\n",
       "  </tbody>\n",
       "</table>\n",
       "<p>1054 rows × 6 columns</p>\n",
       "</div>"
      ],
      "text/plain": [
       "       ano  mes  seguradora  vendedor  tot_apolices   receita\n",
       "0     2019    1          72        58             1    65.300\n",
       "1     2019    1          72        57             4  1360.235\n",
       "2     2019    1          72        56             3   276.490\n",
       "4     2019    1          72        38             3  1080.745\n",
       "5     2019    1          72        35             2   446.095\n",
       "...    ...  ...         ...       ...           ...       ...\n",
       "1075  2020    6          72        14             1    98.935\n",
       "1076  2020    6          72        13             3  3244.695\n",
       "1077  2020    6          72        12             3   267.235\n",
       "1078  2020    6          72         9            12  2157.955\n",
       "1079  2020    6          72         2             9  3359.695\n",
       "\n",
       "[1054 rows x 6 columns]"
      ]
     },
     "execution_count": 17,
     "metadata": {},
     "output_type": "execute_result"
    }
   ],
   "source": [
    "#Removendo valores negativos pois são cancelamentos\n",
    "df_receita = df_receita.query('receita >= 0')\n",
    "df_receita\n"
   ]
  },
  {
   "cell_type": "code",
   "execution_count": 15,
   "metadata": {},
   "outputs": [
    {
     "data": {
      "image/png": "[encoded data removed]",
      "text/plain": [
       "<Figure size 1200x500 with 1 Axes>"
      ]
     },
     "metadata": {},
     "output_type": "display_data"
    }
   ],
   "source": [
    "#Verificando a distribuição após remover os valores cancelados\n",
    "plt.figure(figsize=(12, 5))\n",
    "sns.histplot(df_receita.receita, bins=500, kde=False, color='skyblue')\n",
    "#limitei o x para não aparecer o possível outlier\n",
    "plt.xlim(0,10000)\n",
    "plt.show()"
   ]
  }
 ],
 "metadata": {
  "kernelspec": {
   "display_name": "Python 3",
   "language": "python",
   "name": "python3"
  },
  "language_info": {
   "codemirror_mode": {
    "name": "ipython",
    "version": 3
   },
   "file_extension": ".py",
   "mimetype": "text/x-python",
   "name": "python",
   "nbconvert_exporter": "python",
   "pygments_lexer": "ipython3",
   "version": "3.11.3"
  },
  "orig_nbformat": 4
 },
 "nbformat": 4,
 "nbformat_minor": 2
}
